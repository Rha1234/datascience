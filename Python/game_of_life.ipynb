{
 "cells": [
  {
   "cell_type": "markdown",
   "metadata": {},
   "source": [
    "## ライフゲームとは\n",
    "* 生命の誕生や拡散、絶滅などをシンプルなルールに基づいてシミュレートするもの\n",
    "* ライフゲームはセル・オートマトンという分野の一種で、ライフゲーム自体はパズル要素が大きいが、セル・オートマトン自体は様々な領域で研究・応用されている\n",
    "\n",
    "## ライフゲームのルール\n",
    "* 生命がいる：セルの値が1\n",
    "* 生命がいない：セルの値が0\n",
    "* 誕生：死んでいるセルに隣接する生きたセルがちょうど3つあれば、次の世代が誕生する。\n",
    "* 生存：生きているセルに隣接する生きたセルが2つか3つならば、次の世代でも生存する。\n",
    "* 過疎：生きているセルに隣接する生きたセルが1つ以下ならば、過疎により死滅する。\n",
    "* 過密：生きているセルに隣接する生きたセルが4つ以上ならば、過密により死滅する。"
   ]
  },
  {
   "cell_type": "markdown",
   "metadata": {},
   "source": [
    "## ライフゲームを実装するにあたって必要なモジュールを考える\n",
    "* count_neighbor：注目しているセルの周囲のセルの値をカウントする\n",
    "* make_nextcell：周囲のセルの状況から注目しているセルの次の状態を決定する"
   ]
  },
  {
   "cell_type": "markdown",
   "metadata": {},
   "source": [
    "## １．count_neighborを作成する"
   ]
  },
  {
   "cell_type": "code",
   "execution_count": 33,
   "metadata": {},
   "outputs": [],
   "source": [
    "# 自分のマスに隣接しているマスの総和を求める\n",
    "# i,jは行列成分ではなくてindex\n",
    "\n",
    "def count_neighbor(data, i, j):\n",
    "\n",
    "    # カウンターを0で初期化する\n",
    "    count = 0\n",
    "    \n",
    "    # 自分の位置indexが(i,j)だとすると、その周囲のマスの中の値(i-1からi+1, j-1からj+1)を二重ループで加算する\n",
    "    # (rangeなので+2している)\n",
    "    for i_ in range(i-1, i+2):\n",
    "        for j_ in range(j-1, j+2):\n",
    "            \n",
    "            # forループではOutofIndexErrorを意識せずにループを作成する\n",
    "            # OutofIndexError回避のために、0以上存在するindex以下の範囲内に絞り込む\n",
    "            # （indexなのでlen()から-1している）\n",
    "            if (0 <= i_ <= len(data)-1 and 0 <= j_ <= len(data[i_])-1):\n",
    "                \n",
    "                # セルの値を足す\n",
    "                count += data[i_][j_]\n",
    "    \n",
    "    # ループで自分自身のセルの値を足してしまっているので、引く\n",
    "    count -= data[i][j]\n",
    "    \n",
    "    # 結果を返す\n",
    "    return count"
   ]
  },
  {
   "cell_type": "code",
   "execution_count": 34,
   "metadata": {},
   "outputs": [
    {
     "data": {
      "text/plain": [
       "(2, 2, 0)"
      ]
     },
     "execution_count": 34,
     "metadata": {},
     "output_type": "execute_result"
    }
   ],
   "source": [
    "# 適当なデータで実験\n",
    "# 3*3の9マスを考える\n",
    "data=[\n",
    "    [1,0,0],\n",
    "    [0,0,0],\n",
    "    [1,0,0]\n",
    "]\n",
    "\n",
    "count_neighbor(data, 1, 0), count_neighbor(data, 1, 1), count_neighbor(data, 0, 2)"
   ]
  },
  {
   "cell_type": "markdown",
   "metadata": {},
   "source": [
    "## 2.make_nextcellを作成する"
   ]
  },
  {
   "cell_type": "code",
   "execution_count": 35,
   "metadata": {},
   "outputs": [],
   "source": [
    "# 誕生・生存・過疎・過密による生存・死滅を判定する\n",
    "def make_nextcell(now_cell, neighbor):\n",
    "    \n",
    "    # 次のセルの状態を0で初期化\n",
    "    next_cell = 0\n",
    "    \n",
    "    # 現在のセルが死滅状態の場合\n",
    "    if now_cell == 0:\n",
    "        # 周囲の生存セル数が３の場合、生命が誕生する\n",
    "        if neighbor == 3:\n",
    "            next_cell = 1\n",
    "            \n",
    "    # 現在のセルが死滅状態の場合\n",
    "    else:\n",
    "        # 周囲の生存セル数が2もしくは3の場合、生命が維持される\n",
    "        if neighbor == 2 or neighbor == 3:\n",
    "            next_cell = 1\n",
    "        # 周囲の生存セル数が１以下、４以上の場合、過疎＆過密で、生命が死滅する\n",
    "        if neighbor <= 1 or neighbor >= 4:\n",
    "            next_cell = 0\n",
    "    \n",
    "    # 結果を返す\n",
    "    return next_cell        "
   ]
  },
  {
   "cell_type": "code",
   "execution_count": 36,
   "metadata": {},
   "outputs": [
    {
     "data": {
      "text/plain": [
       "(1, 1, 0, 0)"
      ]
     },
     "execution_count": 36,
     "metadata": {},
     "output_type": "execute_result"
    }
   ],
   "source": [
    "# テストデータで実験する\n",
    "\n",
    "# 誕生の場合\n",
    "tanjyo_data = [\n",
    "    [0,0,0],\n",
    "    [0,0,1],\n",
    "    [1,1,0]\n",
    "]\n",
    "\n",
    "# 生存の場合\n",
    "seizon_data = [\n",
    "    [0,0,0],\n",
    "    [0,1,1],\n",
    "    [1,1,0]\n",
    "]\n",
    "\n",
    "# 過疎の場合\n",
    "kaso_data = [\n",
    "    [0,0,0],\n",
    "    [0,1,1],\n",
    "    [0,0,0]\n",
    "]\n",
    "\n",
    "# 過密の場合\n",
    "kamitsu_data = [\n",
    "    [0,0,0],\n",
    "    [0,1,1],\n",
    "    [1,1,1]\n",
    "]\n",
    "\n",
    "make_nextcell(0, 3), make_nextcell(1, 3), make_nextcell(1, 1), make_nextcell(1, 4)"
   ]
  },
  {
   "cell_type": "markdown",
   "metadata": {},
   "source": [
    "## 3. 次の世代の盤をつくる"
   ]
  },
  {
   "cell_type": "code",
   "execution_count": null,
   "metadata": {},
   "outputs": [],
   "source": []
  }
 ],
 "metadata": {
  "kernelspec": {
   "display_name": "Python 3",
   "language": "python",
   "name": "python3"
  },
  "language_info": {
   "codemirror_mode": {
    "name": "ipython",
    "version": 3
   },
   "file_extension": ".py",
   "mimetype": "text/x-python",
   "name": "python",
   "nbconvert_exporter": "python",
   "pygments_lexer": "ipython3",
   "version": "3.8.5"
  }
 },
 "nbformat": 4,
 "nbformat_minor": 4
}
