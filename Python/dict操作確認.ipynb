{
 "cells": [
  {
   "cell_type": "markdown",
   "metadata": {},
   "source": [
    "## enumerate：リストに対してインデックスをつけて繰り返し処理を行う"
   ]
  },
  {
   "cell_type": "code",
   "execution_count": 15,
   "metadata": {},
   "outputs": [
    {
     "name": "stdout",
     "output_type": "stream",
     "text": [
      "(0, 'orange')\n",
      "(1, 'apple')\n",
      "(2, 'banana')\n",
      "(3, 'pineapple')\n",
      "(4, 'lemon')\n"
     ]
    }
   ],
   "source": [
    "fruits = ['orange', 'apple', 'banana', 'pineapple', 'lemon']\n",
    "\n",
    "for fruit in enumerate(fruits):\n",
    "    print(fruit)"
   ]
  },
  {
   "cell_type": "markdown",
   "metadata": {},
   "source": [
    "連番の文字列などを作りたい時に便利らしい。"
   ]
  },
  {
   "cell_type": "code",
   "execution_count": 16,
   "metadata": {},
   "outputs": [
    {
     "name": "stdout",
     "output_type": "stream",
     "text": [
      "0_orange\n",
      "1_apple\n",
      "2_banana\n",
      "3_pineapple\n",
      "4_lemon\n"
     ]
    }
   ],
   "source": [
    "for i, fruit in enumerate(fruits):\n",
    "    print('{0}_{1}'.format(i, fruit))"
   ]
  },
  {
   "cell_type": "markdown",
   "metadata": {},
   "source": [
    "AtCoderをやっていると、初期リストのindexを保持しておきたい際など、たまに使えると便利な時がある。"
   ]
  },
  {
   "cell_type": "markdown",
   "metadata": {},
   "source": [
    "## zip：2つのリストに対して同時に繰り返し処理を行う"
   ]
  },
  {
   "cell_type": "code",
   "execution_count": 17,
   "metadata": {},
   "outputs": [
    {
     "name": "stdout",
     "output_type": "stream",
     "text": [
      "orange is orange\n",
      "apple is red\n",
      "banana is yellow\n",
      "pineapple is green\n",
      "lemon is yellow\n"
     ]
    }
   ],
   "source": [
    "fruits = ['orange', 'apple', 'banana', 'pineapple', 'lemon']\n",
    "colors = ['orange', 'red', 'yellow', 'green', 'yellow']\n",
    "\n",
    "for fruit, color in zip(fruits, colors):\n",
    "    print('{} is {}'.format(fruit, color))"
   ]
  },
  {
   "cell_type": "markdown",
   "metadata": {},
   "source": [
    "## dictの要素"
   ]
  },
  {
   "cell_type": "code",
   "execution_count": 45,
   "metadata": {},
   "outputs": [
    {
     "data": {
      "text/plain": [
       "(dict_keys(['orange', 'apple', 'banana']),\n",
       " dict_values([200, 100, 150]),\n",
       " dict_items([('orange', 200), ('apple', 100), ('banana', 150)]))"
      ]
     },
     "execution_count": 45,
     "metadata": {},
     "output_type": "execute_result"
    }
   ],
   "source": [
    "price = {\n",
    "    'orange': 200, 'apple': 100, 'banana': 150\n",
    "}\n",
    "\n",
    "price.keys(), price.values(), price.items()"
   ]
  },
  {
   "cell_type": "markdown",
   "metadata": {},
   "source": [
    "## del：【dict操作】dict中の特定の値を削除する"
   ]
  },
  {
   "cell_type": "code",
   "execution_count": 18,
   "metadata": {},
   "outputs": [
    {
     "data": {
      "text/plain": [
       "{'orange': 200, 'banana': 150}"
      ]
     },
     "execution_count": 18,
     "metadata": {},
     "output_type": "execute_result"
    }
   ],
   "source": [
    "price = {\n",
    "    'orange': 200, 'apple': 100, 'banana': 150\n",
    "}\n",
    "\n",
    "del price['apple']\n",
    "\n",
    "price"
   ]
  },
  {
   "cell_type": "markdown",
   "metadata": {},
   "source": [
    "## items：【dict操作】dict中の要素に繰り返し処理を行う"
   ]
  },
  {
   "cell_type": "code",
   "execution_count": 47,
   "metadata": {},
   "outputs": [
    {
     "name": "stdout",
     "output_type": "stream",
     "text": [
      "orange 200\n",
      "apple 100\n",
      "banana 150\n"
     ]
    }
   ],
   "source": [
    "price = {\n",
    "    'orange': 200, 'apple': 100, 'banana': 150\n",
    "}\n",
    "\n",
    "for key, value in price.items():\n",
    "    print(key, value)"
   ]
  },
  {
   "cell_type": "markdown",
   "metadata": {},
   "source": [
    "## key in dict：【dict操作】dictのキーに特定のキーが存在するか確認する"
   ]
  },
  {
   "cell_type": "code",
   "execution_count": 35,
   "metadata": {},
   "outputs": [
    {
     "data": {
      "text/plain": [
       "(True, False)"
      ]
     },
     "execution_count": 35,
     "metadata": {},
     "output_type": "execute_result"
    }
   ],
   "source": [
    "price = {\n",
    "    'orange': 200, 'apple': 100, 'banana': 150\n",
    "}\n",
    "\n",
    "'apple' in price, 'grape' in price"
   ]
  },
  {
   "cell_type": "markdown",
   "metadata": {},
   "source": [
    "dictのキー内に特定のキーが存在するか確認するには、上のコードで十分。<br>\n",
    "dict.keys()でもキーの一覧を取得出来る。"
   ]
  },
  {
   "cell_type": "code",
   "execution_count": 36,
   "metadata": {},
   "outputs": [
    {
     "data": {
      "text/plain": [
       "dict_keys(['orange', 'apple', 'banana'])"
      ]
     },
     "execution_count": 36,
     "metadata": {},
     "output_type": "execute_result"
    }
   ],
   "source": [
    "price.keys()"
   ]
  },
  {
   "cell_type": "code",
   "execution_count": 33,
   "metadata": {},
   "outputs": [
    {
     "data": {
      "text/plain": [
       "(True, False)"
      ]
     },
     "execution_count": 33,
     "metadata": {},
     "output_type": "execute_result"
    }
   ],
   "source": [
    "'apple' in price.keys(), 'grape' in price.keys()"
   ]
  },
  {
   "cell_type": "markdown",
   "metadata": {},
   "source": [
    "## value in dict.values()：【dict操作】dictのバリューに特定のバリューが存在するか確認する"
   ]
  },
  {
   "cell_type": "code",
   "execution_count": 37,
   "metadata": {},
   "outputs": [
    {
     "data": {
      "text/plain": [
       "(True, False)"
      ]
     },
     "execution_count": 37,
     "metadata": {},
     "output_type": "execute_result"
    }
   ],
   "source": [
    "price = {\n",
    "    'orange': 200, 'apple': 100, 'banana': 150\n",
    "}\n",
    "\n",
    "200 in price.values(), 1000 in price.values()"
   ]
  },
  {
   "cell_type": "markdown",
   "metadata": {},
   "source": [
    "## (key, value) in dict.items()：【dict操作】dictのキー＆バリューに特定の組が存在するか確認する"
   ]
  },
  {
   "cell_type": "code",
   "execution_count": 43,
   "metadata": {},
   "outputs": [
    {
     "data": {
      "text/plain": [
       "(True, False)"
      ]
     },
     "execution_count": 43,
     "metadata": {},
     "output_type": "execute_result"
    }
   ],
   "source": [
    "price = {\n",
    "    'orange': 200, 'apple': 100, 'banana': 150\n",
    "}\n",
    "\n",
    "('orange', 200) in price.items(), ('grape', 500) in price.items()"
   ]
  },
  {
   "cell_type": "markdown",
   "metadata": {},
   "source": [
    "## dict > list"
   ]
  },
  {
   "cell_type": "code",
   "execution_count": 50,
   "metadata": {},
   "outputs": [
    {
     "name": "stdout",
     "output_type": "stream",
     "text": [
      "<class 'dict_items'>\n",
      "<class 'list'>\n"
     ]
    }
   ],
   "source": [
    "price = {\n",
    "    'orange': 200, 'apple': 100, 'banana': 150\n",
    "}\n",
    "\n",
    "print(type(price.items()))\n",
    "print(type(list(price.items())))"
   ]
  },
  {
   "cell_type": "markdown",
   "metadata": {},
   "source": [
    "## 関数の引数にdictを展開して渡す"
   ]
  },
  {
   "cell_type": "code",
   "execution_count": 55,
   "metadata": {},
   "outputs": [
    {
     "name": "stdout",
     "output_type": "stream",
     "text": [
      "200 100 150\n"
     ]
    }
   ],
   "source": [
    "price = {\n",
    "    'orange': 200, 'apple': 100, 'banana': 150\n",
    "}\n",
    "\n",
    "def show_price(orange:int, apple:int, banana:int) -> None:\n",
    "    print(orange, apple, banana)\n",
    "\n",
    "show_price(**price)"
   ]
  },
  {
   "cell_type": "markdown",
   "metadata": {},
   "source": [
    "## キーとバリューそれぞれのリストから辞書を作成する"
   ]
  },
  {
   "cell_type": "code",
   "execution_count": 56,
   "metadata": {},
   "outputs": [
    {
     "data": {
      "text/plain": [
       "{'orange': 200, 'grape': 400}"
      ]
     },
     "execution_count": 56,
     "metadata": {},
     "output_type": "execute_result"
    }
   ],
   "source": [
    "keys = ['orange', 'grape']\n",
    "values = [200, 400]\n",
    "\n",
    "fruits = dict(zip(keys, values))\n",
    "\n",
    "fruits"
   ]
  },
  {
   "cell_type": "markdown",
   "metadata": {},
   "source": [
    "## 内包表記を使ってdictのキーとバリューを入れ替える"
   ]
  },
  {
   "cell_type": "code",
   "execution_count": 65,
   "metadata": {},
   "outputs": [
    {
     "data": {
      "text/plain": [
       "{200: 'orange', 100: 'apple', 150: 'banana'}"
      ]
     },
     "execution_count": 65,
     "metadata": {},
     "output_type": "execute_result"
    }
   ],
   "source": [
    "price = {\n",
    "    'orange': 200, 'apple': 100, 'banana': 150\n",
    "}\n",
    "\n",
    "swap_price = {value: key for key, value in price.items()}\n",
    "\n",
    "swap_price"
   ]
  },
  {
   "cell_type": "code",
   "execution_count": null,
   "metadata": {},
   "outputs": [],
   "source": []
  }
 ],
 "metadata": {
  "kernelspec": {
   "display_name": "Python 3",
   "language": "python",
   "name": "python3"
  },
  "language_info": {
   "codemirror_mode": {
    "name": "ipython",
    "version": 3
   },
   "file_extension": ".py",
   "mimetype": "text/x-python",
   "name": "python",
   "nbconvert_exporter": "python",
   "pygments_lexer": "ipython3",
   "version": "3.8.5"
  }
 },
 "nbformat": 4,
 "nbformat_minor": 4
}
