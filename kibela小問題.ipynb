{
 "cells": [
  {
   "cell_type": "markdown",
   "metadata": {},
   "source": [
    "## 1."
   ]
  },
  {
   "cell_type": "code",
   "execution_count": 4,
   "metadata": {},
   "outputs": [
    {
     "name": "stdout",
     "output_type": "stream",
     "text": [
      "[40, 40, 14, 78, 45, 80, 76, 52, 82, 54]\n"
     ]
    }
   ],
   "source": [
    "import random\n",
    "\n",
    "nums = [ random.randrange(1, 101) for _ in range(10)]\n",
    "\n",
    "print(nums)"
   ]
  },
  {
   "cell_type": "markdown",
   "metadata": {},
   "source": [
    "## 2."
   ]
  },
  {
   "cell_type": "code",
   "execution_count": 7,
   "metadata": {},
   "outputs": [
    {
     "name": "stdout",
     "output_type": "stream",
     "text": [
      "[49, 21, 35, 11, 5]\n"
     ]
    }
   ],
   "source": [
    "import random\n",
    "\n",
    "nums = [ random.randrange(1, 51, 2) for _ in range(5)]\n",
    "\n",
    "print(nums)"
   ]
  },
  {
   "cell_type": "markdown",
   "metadata": {},
   "source": [
    "## 3."
   ]
  },
  {
   "cell_type": "code",
   "execution_count": 17,
   "metadata": {},
   "outputs": [
    {
     "data": {
      "text/plain": [
       "[109.97924922792245,\n",
       " 95.51310802554448,\n",
       " 90.03389574665152,\n",
       " 89.29494414050055,\n",
       " 83.48627272489921,\n",
       " 81.9863072121497,\n",
       " 79.04395144690508,\n",
       " 75.20299026088463,\n",
       " 74.96202870832013,\n",
       " 74.48680327057852,\n",
       " 72.5056516580245,\n",
       " 72.41725594491119,\n",
       " 71.6823922957816,\n",
       " 70.36740530173061,\n",
       " 70.12535969756838,\n",
       " 66.22636900364687,\n",
       " 65.36351548949673,\n",
       " 65.2733376581848,\n",
       " 64.49350319682354,\n",
       " 63.52127902881576,\n",
       " 63.15244320380558,\n",
       " 61.27392609890519,\n",
       " 59.58847098100512,\n",
       " 59.524491150352524,\n",
       " 59.492661760009135,\n",
       " 58.52445988987627,\n",
       " 58.515058006880544,\n",
       " 57.2798147354694,\n",
       " 57.16367364335969,\n",
       " 54.785272556775,\n",
       " 53.74332968700368,\n",
       " 51.445927946596434,\n",
       " 50.49287210958843,\n",
       " 50.44625985994685,\n",
       " 50.35708026938997,\n",
       " 50.32010359016373,\n",
       " 47.73855299731834,\n",
       " 47.018997763859915,\n",
       " 46.50877763888722,\n",
       " 44.42763374560862,\n",
       " 43.91582389366816,\n",
       " 34.90029951112565,\n",
       " 34.42162609517965,\n",
       " 33.92663191191052,\n",
       " 32.704893917020065,\n",
       " 32.49953191091813,\n",
       " 21.835062980674266,\n",
       " 20.855715093206236,\n",
       " 18.75351973571373,\n",
       " 9.486399264449759]"
      ]
     },
     "execution_count": 17,
     "metadata": {},
     "output_type": "execute_result"
    }
   ],
   "source": [
    "import random\n",
    "\n",
    "nums = sorted([ random.normalvariate(60, 20) for _ in range(50)], reverse=True)\n",
    "\n",
    "nums"
   ]
  },
  {
   "cell_type": "code",
   "execution_count": null,
   "metadata": {},
   "outputs": [],
   "source": []
  }
 ],
 "metadata": {
  "kernelspec": {
   "display_name": "Python 3",
   "language": "python",
   "name": "python3"
  },
  "language_info": {
   "codemirror_mode": {
    "name": "ipython",
    "version": 3
   },
   "file_extension": ".py",
   "mimetype": "text/x-python",
   "name": "python",
   "nbconvert_exporter": "python",
   "pygments_lexer": "ipython3",
   "version": "3.8.5"
  }
 },
 "nbformat": 4,
 "nbformat_minor": 4
}
